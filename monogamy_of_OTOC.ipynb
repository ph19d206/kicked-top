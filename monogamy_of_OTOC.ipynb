{
 "cells": [
  {
   "cell_type": "markdown",
   "id": "9a6fa0e3",
   "metadata": {
    "kernel": "SoS"
   },
   "source": [
    "# monogamy of OTOC"
   ]
  },
  {
   "cell_type": "markdown",
   "id": "28e62fb2",
   "metadata": {
    "kernel": "SoS"
   },
   "source": [
    "$H = H_1 + H_2 + H_3 + H_{12}+ H_{23}$"
   ]
  },
  {
   "cell_type": "markdown",
   "id": "c9fcb83c",
   "metadata": {
    "kernel": "SoS"
   },
   "source": [
    "$H_1=\\alpha J_{y_1} +\\frac{k_1}{2J_1}J_{z_1}^2\\sum_{n=-\\infty}^{\\infty}\\delta(t-n\\tau)$"
   ]
  },
  {
   "cell_type": "markdown",
   "id": "64d86225",
   "metadata": {},
   "source": [
    "Where $\\large{\\alpha = \\frac{\\hslash p}{\\tau}}$ from Haake paper on Kicked top."
   ]
  },
  {
   "cell_type": "markdown",
   "id": "e154d99a",
   "metadata": {},
   "source": [
    "#### For single kicked top\n",
    "Link: [Classical and quantum chaos for a kicked top by Haake](https://link.springer.com/article/10.1007/BF01303727)\n",
    "\n",
    "Drive link: [F Haake Classical and Quantum Chaos for a Kicked top.pdf](https://drive.google.com/file/d/1inHX4e8KOc9bSNvuQqZrA7Ikxzizlyd0/view?usp=sharing)"
   ]
  },
  {
   "cell_type": "markdown",
   "id": "18bad188",
   "metadata": {
    "kernel": "SoS"
   },
   "source": [
    "$H_{ij}=\\frac{\\Delta_{ij}}{2\\sqrt{J_i J_j}}J_{zi}J_{zj}\\sum_{n=-\\infty}^{\\infty}\\delta(t-n\\tau)$"
   ]
  },
  {
   "cell_type": "markdown",
   "id": "0e0a5276",
   "metadata": {
    "kernel": "SoS"
   },
   "source": [
    "$U_{1} = exp(-i\\frac{k}{2J_1}J_{z1}^2)\\cdot exp(-i\\alpha J_{y1})$"
   ]
  },
  {
   "cell_type": "markdown",
   "id": "533791a7",
   "metadata": {
    "kernel": "SoS"
   },
   "source": [
    "$U_{12} = exp({-i\\frac{\\Delta}{2\\sqrt{J_1 J_2}}(J_{z1}\\otimes J_{z2}}))$"
   ]
  },
  {
   "cell_type": "markdown",
   "id": "96f7bfcf",
   "metadata": {
    "kernel": "SoS"
   },
   "source": [
    "$U=(U_{12}\\otimes I_3)(I_1\\otimes U_{23})(U_1\\otimes U_2 \\otimes U_3)$"
   ]
  },
  {
   "cell_type": "markdown",
   "id": "f68133a4",
   "metadata": {
    "kernel": "SoS"
   },
   "source": [
    "Related papers:\n",
    "\n",
    "[Entanglement in coupled kicked tops with chaotic dynamics](https://arxiv.org/pdf/1910.13447.pdf)\n",
    "\n",
    "[Signatures of chaos in the entanglement of two coupled quantum kicked tops](https://journals.aps.org/pre/pdf/10.1103/PhysRevE.60.1542)"
   ]
  },
  {
   "cell_type": "markdown",
   "id": "85478b03",
   "metadata": {},
   "source": [
    "1) ##  3 kicked top Hamiltonians Version 1.0\n",
    "For understanding the entanglement groth and information scrambling."
   ]
  },
  {
   "cell_type": "code",
   "execution_count": 1,
   "id": "a48e7e53",
   "metadata": {
    "kernel": "Julia 1.7.2"
   },
   "outputs": [],
   "source": [
    "using QuantumOptics\n",
    "import PyPlot as plt\n",
    "using NPZ\n",
    "using SparseArrays\n",
    "using LinearAlgebra"
   ]
  },
  {
   "cell_type": "code",
   "execution_count": 2,
   "id": "cc842fce",
   "metadata": {},
   "outputs": [
    {
     "data": {
      "text/plain": [
       "Operator(dim=19x19)\n",
       "  basis: Spin(9)sparse([1, 2, 3, 4, 5, 6, 7, 8, 9, 11, 12, 13, 14, 15, 16, 17, 18, 19], [1, 2, 3, 4, 5, 6, 7, 8, 9, 11, 12, 13, 14, 15, 16, 17, 18, 19], ComplexF64[9.0 + 0.0im, 8.0 + 0.0im, 7.0 + 0.0im, 6.0 + 0.0im, 5.0 + 0.0im, 4.0 + 0.0im, 3.0 + 0.0im, 2.0 + 0.0im, 1.0 + 0.0im, -1.0 + 0.0im, -2.0 + 0.0im, -3.0 + 0.0im, -4.0 + 0.0im, -5.0 + 0.0im, -6.0 + 0.0im, -7.0 + 0.0im, -8.0 + 0.0im, -9.0 + 0.0im], 19, 19)"
      ]
     },
     "execution_count": 2,
     "metadata": {},
     "output_type": "execute_result"
    }
   ],
   "source": [
    "#------------------------------------------------\n",
    "# Parameters\n",
    "k1 = 5;\n",
    "k2 = 10;\n",
    "k3 = 6;\n",
    "j1 = 8\n",
    "j2 = 10\n",
    "j3 = 9\n",
    "p = 1.4\n",
    "ϵpow= 14; ϵ = 10.0^(-ϵpow) #precision\n",
    "Δ12 = 1; Δ23 = 3 # coupling strength.\n",
    "N1 = convert(Int64,2*j1+1) # N1 is the dimension of the 1st hilbert space (2j1 +1).\n",
    "N2 = convert(Int64,2*j2+1) # N2 is the dimension of the 2nd hilbert space (2j2 +1).\n",
    "N3 = convert(Int64,2*j3+1) # N3 is the dimension of the 3rd hilbert space (2j3 +1)\n",
    "#------------------------------------------------\n",
    "\n",
    "# Basis\n",
    "b1 = SpinBasis(j1)\n",
    "b2 = SpinBasis(j2)\n",
    "b3 = SpinBasis(j3)\n",
    "\n",
    "\n",
    "# Operator creation\n",
    "Jy1 = 0.5*sigmay(b1)\n",
    "Jz1 = 0.5*sigmaz(b1)\n",
    "\n",
    "Jy2 = 0.5*sigmay(b2)\n",
    "Jz2 = 0.5*sigmaz(b2)\n",
    "\n",
    "Jy3 = 0.5*sigmay(b3)\n",
    "Jz3 = 0.5*sigmaz(b3)"
   ]
  },
  {
   "cell_type": "code",
   "execution_count": null,
   "id": "a6d05be0",
   "metadata": {},
   "outputs": [],
   "source": [
    "# Floquet operators\n",
    "# U1 for j=j1\n",
    "U1 = fastExpm(-1im*k1*Jz1*Jz1/(2*j1),nonzero_tol=ϵ)*fastExpm(-1im*p*Jy1,nonzero_tol = ϵ);\n",
    "#U2 = sparse(U1)\n",
    "\n",
    "# U2 for j=j2\n",
    "U2 = fastExpm(-1im*k2*Jz2*Jz2/(2*j2) ,nonzero_tol=ϵ)*fastExpm(-1im*p*Jy2 ,nonzero_tol = ϵ);\n",
    "#U2 = sparse(U2)\n",
    "\n",
    "# U12 Floquet for coupling term\n",
    "U12 = fastExpm(-1im * Δ12* (kron(Jz1,Jz2)) / (2 * sqrt(j1 * j2) ),nonzero_tol = ϵ);\n",
    "\n",
    "# Unitary evolution Floquet operator\n",
    "U = U12 * kron(U1,U2)"
   ]
  },
  {
   "cell_type": "code",
   "execution_count": 3,
   "id": "854bad31",
   "metadata": {},
   "outputs": [
    {
     "data": {
      "text/plain": [
       "Operator(dim=323x323)\n",
       "  basis: [Spin(8) ⊗ Spin(9)]sparse([1, 3, 5, 7, 9, 11, 19, 21, 23, 25  …  299, 301, 303, 305, 313, 315, 317, 319, 321, 323], [1, 1, 1, 1, 1, 1, 1, 1, 1, 1  …  323, 323, 323, 323, 323, 323, 323, 323, 323, 323], ComplexF64[0.999655102485415 + 0.0im, 0.0004720644988309 - 0.0im, 2.2898290778e-7 + 0.0im, 9.594627e-11 + 0.0im, 3.27e-14 + 0.0im, 1.0e-17 + 0.0im, 0.0 + 0.02624514312496942im, 0.0 + 1.933876505048e-5im, 0.0 + 1.078859054e-8im, 0.0 + 4.69428e-12im  …  0.0 + 4.69428e-12im, 0.0 + 1.078859054e-8im, 0.0 + 1.933876505048e-5im, 0.0 + 0.02624514312496942im, 1.0e-17 + 0.0im, 3.27e-14 - 0.0im, 9.594627e-11 + 0.0im, 2.2898290778e-7 - 0.0im, 0.0004720644988309 + 0.0im, 0.999655102485415 + 0.0im], 323, 323)"
      ]
     },
     "execution_count": 3,
     "metadata": {},
     "output_type": "execute_result"
    }
   ],
   "source": [
    "# Floquet operators\n",
    "# U1 for j=j1\n",
    "U1 = exp(dense(-1im*k1*Jy1*Jy1/(2*(j1+1/2))))*exp(dense(-1im*α*Jz1));\n",
    "#U1.data[abs.(U1.data) .< ϵ] .= 0 # If matrix element is bellow ϵ;\n",
    "U1=sparse(U1) # making it sparse matrix.\n",
    "#n = nnz(U1.data)\n",
    "#println(\"Number of non zero elements in U1 are $n\")\n",
    "\n",
    "# U2 for j=j2\n",
    "U2 = exp(dense(-1im*k2*Jy2*Jy2/(2*(j2+1/2))))*exp(dense(-1im*α*Jz2));\n",
    "#U2.data[abs.(U2.data) .< ϵ] .= 0 # If matrix element is bellow ϵ;\n",
    "U2=sparse(U2) # making it sparse matrix.\n",
    "#n = nnz(U2.data)\n",
    "#println(\"Number of non zero elements in U2 are $n\")\n",
    "\n",
    "# U3 for j=j3\n",
    "U3 = exp(dense(-1im*k3*Jy3*Jy3/(2*(j3+1/2))))*exp(dense(-1im*α*Jz3));\n",
    "#U3.data[abs.(U3.data) .< ϵ] .= 0 # If matrix element is bellow ϵ;\n",
    "U3=sparse(U3) # making it sparse matrix.\n",
    "#n = nnz(U3.data)\n",
    "#println(\"Number of non zero elements in U3 are $n\")\n",
    "\n",
    "\n",
    "\n",
    "# U12 Floquet for coupling term\n",
    "U12 = exp(dense(-1im * Δ12*(Jy1⊗Jy2) / (2 * (j1 + 1/2) * (j2 + 1/2))));\n",
    "#U12.data[abs.(U12.data) .< ϵ] .= 0 # If matrix element is bellow ϵ;\n",
    "U12=sparse(U12) # making it sparse matrix.\n",
    "#n = nnz(U12.data)\n",
    "#println(\"Number of non zero elements in U12 are $n\")\n",
    "\n",
    "# U23 Floquet for coupling term\n",
    "U23 = exp(dense(-1im * Δ23*(Jy2⊗Jy3) / (2 * (j2 + 1/2) * (j3 + 1/2))));\n",
    "#U23.data[abs.(U23.data) .< ϵ] .= 0 # If matrix element is bellow ϵ;\n",
    "U23=sparse(U23) # making it sparse matrix.\n",
    "#n = nnz(U23.data)\n",
    "#println(\"Number of non zero elements in U23 are $n\")"
   ]
  },
  {
   "cell_type": "code",
   "execution_count": 7,
   "id": "55dddd63",
   "metadata": {},
   "outputs": [
    {
     "data": {
      "text/plain": [
       "Operator(dim=5491x5491)\n",
       "  basis: [Spin(8) ⊗ Spin(8) ⊗ Spin(9)]\n",
       "   -0.212585+0.0521971im    …  -0.000187761+0.000393043im\n",
       "         0.0+0.0im                      0.0+0.0im\n",
       "   -0.146122-0.0246126im         0.00150254-0.000367735im\n",
       "         0.0+0.0im                      0.0+0.0im\n",
       "  -0.0994097-0.0709756im       -0.000239688-0.00133695im\n",
       "         0.0+0.0im          …           0.0+0.0im\n",
       "  -0.0475571-0.0963788im        -0.00125475-0.00111337im\n",
       "         0.0+0.0im                      0.0+0.0im\n",
       "   0.0105834-0.0904701im         -0.0017262-2.39809e-5im\n",
       "         0.0+0.0im                      0.0+0.0im\n",
       "   0.0654308-0.0596314im    …   -0.00172459+0.00108389im\n",
       "         0.0+0.0im                      0.0+0.0im\n",
       "   0.0716933-0.00522265im       -0.00114824+0.00201213im\n",
       "            ⋮               ⋱              ⋮\n",
       "         0.0+0.0im                      0.0+0.0im\n",
       "  0.00172459-0.00108389im   …    -0.0654308+0.0596314im\n",
       "         0.0+0.0im                      0.0+0.0im\n",
       "   0.0017262+2.39809e-5im        -0.0105834+0.0904701im\n",
       "         0.0+0.0im                      0.0+0.0im\n",
       "  0.00125475+0.00111337im         0.0475571+0.0963788im\n",
       "         0.0+0.0im          …           0.0+0.0im\n",
       " 0.000239688+0.00133695im         0.0994097+0.0709756im\n",
       "         0.0+0.0im                      0.0+0.0im\n",
       " -0.00150254+0.000367735im         0.146122+0.0246126im\n",
       "         0.0+0.0im                      0.0+0.0im\n",
       " 0.000187761-0.000393043im  …      0.212585-0.0521971im"
      ]
     },
     "execution_count": 7,
     "metadata": {},
     "output_type": "execute_result"
    }
   ],
   "source": [
    "# Unitary floquet operator of whole system\n",
    "U = dense((U12⊗identityoperator(b3))*(identityoperator(b1)⊗U23)*(U1 ⊗ U2 ⊗ U3))\n",
    "U_off23 = dense((U12⊗identityoperator(b3))*(U1 ⊗ U2 ⊗ U3))\n"
   ]
  },
  {
   "cell_type": "markdown",
   "id": "e7370caa",
   "metadata": {},
   "source": [
    "2) ##  3 kicked top Hamiltonians Version 2.0\n",
    "For understanding the entanglement groth and information scrambling."
   ]
  },
  {
   "cell_type": "code",
   "execution_count": 1,
   "id": "c0a824ac",
   "metadata": {},
   "outputs": [],
   "source": [
    "using QuantumOptics\n",
    "using SparseArrays\n",
    "using LinearAlgebra\n",
    "using Statistics\n",
    "using FastExpm\n",
    "import PyPlot as plt\n",
    "using ProgressMeter\n",
    "using NPZ"
   ]
  },
  {
   "cell_type": "code",
   "execution_count": 26,
   "id": "fbf33107",
   "metadata": {},
   "outputs": [],
   "source": [
    "#------------------------------------------------\n",
    "# Parameters\n",
    "k1 = 7;\n",
    "k2 = 6;\n",
    "k3 = 7.3;\n",
    "\n",
    "j1 = 8\n",
    "j2 = 8\n",
    "j3 = 9\n",
    "\n",
    "p = 1.73\n",
    "ϵpow= 14; ϵ = 10.0^(-ϵpow) #precision\n",
    "Δ12 = 0.2; Δ23 = 0.2 # coupling strength.\n",
    "N1 = convert(Int64,2*j1+1) # N1 is the dimension of the 1st hilbert space (2j1 +1).\n",
    "N2 = convert(Int64,2*j2+1) # N2 is the dimension of the 2nd hilbert space (2j2 +1).\n",
    "N3 = convert(Int64,2*j3+1) # N3 is the dimension of the 3rd hilbert space (2j3 +1)\n",
    "#------------------------------------------------\n",
    "\n",
    "# Basis\n",
    "b1 = SpinBasis(j1)\n",
    "b2 = SpinBasis(j2)\n",
    "b3 = SpinBasis(j3)\n",
    "\n",
    "# Operator creation\n",
    "Jy1 = 0.5*sparse(sigmay(b1).data)\n",
    "Jz1 = 0.5*sparse(sigmaz(b1).data)\n",
    "\n",
    "Jy2 = 0.5*sparse(sigmay(b2).data)\n",
    "Jz2 = 0.5*sparse(sigmaz(b2).data)\n",
    "\n",
    "Jy3 = 0.5*sparse(sigmay(b3).data)\n",
    "Jz3 = 0.5*sparse(sigmaz(b3).data);"
   ]
  },
  {
   "cell_type": "code",
   "execution_count": 27,
   "id": "838a505c",
   "metadata": {},
   "outputs": [
    {
     "data": {
      "text/plain": [
       "5491×5491 Matrix{ComplexF64}:\n",
       " -2.46967e-10-3.12467e-10im  …   -7.31813e-7-9.25901e-7im\n",
       " -8.09297e-10-1.81003e-9im         1.7418e-6+3.89562e-6im\n",
       "   -5.4794e-9-3.99775e-9im        -8.5655e-6-6.24937e-6im\n",
       "  -1.45409e-8+1.12418e-8im        1.65098e-5-1.2764e-5im\n",
       "   3.80203e-8+1.72802e-8im        3.13541e-5+1.42504e-5im\n",
       "  -6.03932e-8-5.54655e-8im   …     3.6174e-5+3.32224e-5im\n",
       "   1.35679e-7+4.06026e-8im        5.90271e-5+1.76641e-5im\n",
       "  -1.30116e-7+1.74384e-7im        4.11148e-5-5.5103e-5im\n",
       "  -2.91961e-7-6.61669e-8im       -6.70073e-5-1.51858e-5im\n",
       "  -3.04107e-7-2.11225e-7im        5.06937e-5+3.52105e-5im\n",
       "  -4.01971e-7-9.10985e-8im   …   -4.86689e-5-1.10298e-5im\n",
       "  -2.46644e-7+3.30558e-7im        2.16899e-5-2.90693e-5im\n",
       "   3.54099e-7+1.05966e-7im        2.26173e-5+6.76832e-6im\n",
       "             ⋮               ⋱              ⋮\n",
       "  -2.16899e-5+2.90693e-5im        2.46644e-7-3.30558e-7im\n",
       "  -4.86689e-5-1.10298e-5im   …   -4.01971e-7-9.10985e-8im\n",
       "  -5.06937e-5-3.52105e-5im        3.04107e-7+2.11225e-7im\n",
       "  -6.70073e-5-1.51858e-5im       -2.91961e-7-6.61669e-8im\n",
       "  -4.11148e-5+5.5103e-5im         1.30116e-7-1.74384e-7im\n",
       "   5.90271e-5+1.76641e-5im        1.35679e-7+4.06026e-8im\n",
       "   -3.6174e-5-3.32224e-5im   …    6.03932e-8+5.54655e-8im\n",
       "   3.13541e-5+1.42504e-5im        3.80203e-8+1.72802e-8im\n",
       "  -1.65098e-5+1.2764e-5im         1.45409e-8-1.12418e-8im\n",
       "   -8.5655e-6-6.24937e-6im        -5.4794e-9-3.99775e-9im\n",
       "   -1.7418e-6-3.89562e-6im       8.09297e-10+1.81003e-9im\n",
       "  -7.31813e-7-9.25901e-7im   …  -2.46967e-10-3.12467e-10im"
      ]
     },
     "execution_count": 27,
     "metadata": {},
     "output_type": "execute_result"
    }
   ],
   "source": [
    "# Floquet operators\n",
    "# U1 for j=j1\n",
    "U1 = fastExpm(-1im*k1*Jz1*Jz1/(2*j1), threshold=1e-15,nonzero_tol=ϵ)*fastExpm(-1im*p*Jy1,threshold=1e-15,nonzero_tol = ϵ);\n",
    "# U2 for j=j2\n",
    "U2 = fastExpm(-1im*k2*Jz2*Jz2/(2*j2),threshold=1e-15 ,nonzero_tol=ϵ)*fastExpm(-1im*p*Jy2,threshold=1e-15 ,nonzero_tol = ϵ);\n",
    "# U3 for j=j3\n",
    "U3 = fastExpm(-1im*k3*Jz3*Jz3/(2*(j3+1/2)),threshold=1e-15,nonzero_tol=ϵ) * fastExpm(-1im*p*Jy3,threshold=1e-15,nonzero_tol = ϵ);\n",
    "\n",
    "# U12 Floquet for coupling term\n",
    "U12 = fastExpm(-1im * Δ12* (kron(Jz1,Jz2)) / (2 * sqrt(j1 * j2) ),threshold=1e-15,nonzero_tol = ϵ);\n",
    "# U23 Floquet for coupling term\n",
    "U23 = fastExpm(-1im * Δ23*kron(Jz2,Jz3) / (2 * sqrt(j2 * j3)),threshold=1e-15 ,nonzero_tol = ϵ);\n",
    "\n",
    "# U12 an U23 ∈ H1⊗H2⊗ H3\n",
    "U12 = kron(U12,Matrix{ComplexF64}(I,N3,N3));\n",
    "U23 = kron(Matrix{ComplexF64}(I,N1,N1),U23)\n",
    "\n",
    "# Unitary floquet operator of whole system\n",
    "U = U12*U23*kron(U1,U2,U3)\n",
    "U_off23 = U12*kron(U1,U2,U3)"
   ]
  },
  {
   "cell_type": "markdown",
   "id": "4f9ac69c",
   "metadata": {},
   "source": [
    "3. ### OTOC and operatpr sprading version 2.0\n",
    "\n",
    "$OTOC_{max} = \\frac{1}{d}Tr(|[A_t,B]|^2)$. Max means with respect to maximally mixed state.\n",
    "\n",
    "$OTOC_{\\rho} = Tr(\\rho*|[A_t,B]|^2)$"
   ]
  },
  {
   "cell_type": "markdown",
   "id": "1de5ee0b",
   "metadata": {},
   "source": [
    "Here floquet $U$ comute with $Ry = e^{-iπJy}$. So in this basis U is block diagonal. In the same basis $Jy$ \n",
    "will atleast be block diagonal. $Jy$ can be again reduce in that subspace and it is possible to make it \n",
    "diagonal. But let's take the block diagonal form. Use $A = Jy$, $B = Jy$ to calculate OTOC, because of subsspace division we can go much higher dimensin. Consider $Λ'*Jy*Λ$, make $Jy$ as block diagonal matrix."
   ]
  },
  {
   "cell_type": "code",
   "execution_count": 25,
   "id": "41714af9",
   "metadata": {},
   "outputs": [
    {
     "data": {
      "text/plain": [
       "1×100 Matrix{Float64}:\n",
       " 0.0  0.0  0.0  0.0  0.0  0.0  0.0  0.0  …  0.0  0.0  0.0  0.0  0.0  0.0  0.0"
      ]
     },
     "execution_count": 25,
     "metadata": {},
     "output_type": "execute_result"
    }
   ],
   "source": [
    "#------------------------------------------------\n",
    "kicks = 100\n",
    "\n",
    "#t_off = 40 # turnoff the interaction after t_off\n",
    "#t_on = 90 # turnon again after t_on\n",
    "#------------------------------------------------\n",
    "\n",
    "time_array = zeros(1,kicks)"
   ]
  },
  {
   "cell_type": "markdown",
   "id": "cfb61e11",
   "metadata": {},
   "source": [
    "## OTOC calculation"
   ]
  },
  {
   "cell_type": "code",
   "execution_count": 5,
   "id": "9c0956df",
   "metadata": {},
   "outputs": [
    {
     "name": "stderr",
     "output_type": "stream",
     "text": [
      "\u001b[32mProgress: 100%|█████████████████████████████████████████| Time: 0:12:11\u001b[39m\n"
     ]
    }
   ],
   "source": [
    "# OTOC is (Jy1⊗I⊗I)_t and (I⊗Jy2⊗I) \n",
    "# changing the Hilbert space into bigger Hilbert space. H1 or H2 or H3 → H1⊗H2⊗H3\n",
    "A_Jy2 =  kron(sparse(I,N1,N1),Jy2,sparse(I,N3,N3));\n",
    "B_Jy1 =  kron(Jy1,sparse(I,N2,N2),sparse(I,N3,N3))\n",
    "        \n",
    "OTOC12_max = zeros(1,kicks)\n",
    "At = A_Jy2\n",
    "B = B_Jy1\n",
    "    \n",
    "    \n",
    "@showprogress for i = 1:kicks\n",
    "    time_array[1,i] = i\n",
    "    commutator = At * B - B * At\n",
    "    OTOC12_max[1,i] = (1/N1*N2*N3)*tr(commutator' * commutator)\n",
    "    At = U * At * U'\n",
    "end\n",
    "#------------------------------------------------"
   ]
  },
  {
   "cell_type": "code",
   "execution_count": 6,
   "id": "6564a7aa",
   "metadata": {},
   "outputs": [
    {
     "name": "stderr",
     "output_type": "stream",
     "text": [
      "\u001b[32mProgress: 100%|█████████████████████████████████████████| Time: 0:12:26\u001b[39m\n"
     ]
    }
   ],
   "source": [
    "\n",
    "\n",
    "\n",
    "# OTOC is (I⊗Jy2⊗I)_t and (I⊗I⊗Jy3)\n",
    "# making Hilbert space in bigger Hilbert space\n",
    "A_Jy2 =  kron(sparse(I,N1,N1),Jy2,sparse(I,N3,N3));\n",
    "B_Jy3 =  kron(sparse(I,N1,N1),sparse(I,N2,N2),Jy3)\n",
    "\n",
    "OTOC23_max = zeros(1,kicks)\n",
    "At = A_Jy2\n",
    "B = B_Jy3\n",
    "@showprogress for i = 1:kicks\n",
    "    commutator = At * B - B * At\n",
    "    OTOC23_max[1,i] = (1/N1*N2*N3)*tr(commutator' * commutator)\n",
    "    At = U*At*U'\n",
    "end"
   ]
  },
  {
   "cell_type": "code",
   "execution_count": 10,
   "id": "7bf15582",
   "metadata": {},
   "outputs": [
    {
     "name": "stdout",
     "output_type": "stream",
     "text": [
      "data saved in name of: OTOC12max_Jy2_Jy1 8 8 9 7 6 7.3 Δ12=0.2 Δ23=0.2 100.npy\n",
      "data saved in name of: OTOC23max_Jy2_Jy3 8 8 9 7 6 7.3 Δ12=0.2 Δ23=0.2 100.npy\n"
     ]
    }
   ],
   "source": [
    "# data saving\n",
    "save_data = [time_array; OTOC12_max]\n",
    "npzwrite(\"data2/OTOC12max_Jy2_Jy1 $j1 $j2 $j3 $k1 $k2 $k3 Δ12=$Δ12 Δ23=$Δ23 $kicks.npy\", save_data)\n",
    "println(\"data saved in name of: OTOC12max_Jy2_Jy1 $j1 $j2 $j3 $k1 $k2 $k3 Δ12=$Δ12 Δ23=$Δ23 $kicks.npy\")\n",
    "\n",
    "save_data = [time_array; OTOC23_max]\n",
    "npzwrite(\"data2/OTOC23max_Jy2_Jy3 $j1 $j2 $j3 $k1 $k2 $k3 Δ12=$Δ12 Δ23=$Δ23 $kicks.npy\", save_data)\n",
    "println(\"data saved in name of: OTOC23max_Jy2_Jy3 $j1 $j2 $j3 $k1 $k2 $k3 Δ12=$Δ12 Δ23=$Δ23 $kicks.npy\")"
   ]
  },
  {
   "cell_type": "code",
   "execution_count": 43,
   "id": "4f80f9f9",
   "metadata": {},
   "outputs": [
    {
     "data": {
      "image/png": "[encoded data removed]",
      "text/plain": [
       "PyPlot.Figure(PyObject <Figure size 1000x500 with 1 Axes>)"
      ]
     },
     "metadata": {},
     "output_type": "display_data"
    }
   ],
   "source": [
    "plt.figure(figsize=(10,5))\n",
    "plt.plot(time_array',OTOC12_max',\".-\",markersize=10, label = \"At=Jy2,B=Jy1\")\n",
    "plt.plot(time_array',OTOC23_max',\"c.-\",markersize=10,label = \"At=Jy2,B=Jy3\")\n",
    "plt.title(\"kicks vs OTOC, j1=$j1, j2=$j2, j3=$j3\\n k1=$k1, k2=$k2, k3=$k3 p= $(round(p,digits = 3)), Δ12=$Δ12, Δ23=$Δ23\")\n",
    "plt.xlabel(\"kicks\")\n",
    "plt.yscale(\"log\")\n",
    "#plt.xscale(\"log\")\n",
    "plt.ylabel(\"OTOC_max\")\n",
    "plt.legend()\n",
    "\n",
    "#plt.savefig(\"plots/new_plots/ OTOC ccc 3kicked top 100.png\")\n",
    "#plt.savefig(\"plots/new_plots/ OTOC ccc 3kicked top weigner semilog 100.png\")\n",
    "#plt.savefig(\"plots/new_plots/ OTOC ccc 3kicked top weigner loglog 100.png\")"
   ]
  },
  {
   "cell_type": "markdown",
   "id": "2c27c59d",
   "metadata": {},
   "source": [
    "### On and offf is present bellow"
   ]
  },
  {
   "cell_type": "code",
   "execution_count": 12,
   "id": "a254f7fd",
   "metadata": {},
   "outputs": [
    {
     "name": "stderr",
     "output_type": "stream",
     "text": [
      "\u001b[32mProgress: 100%|█████████████████████████████████████████| Time: 0:16:45\u001b[39m\n"
     ]
    }
   ],
   "source": [
    "# If on-off is present.\n",
    "kicks = 100\n",
    "t_off = 7 #At kicks = t_off, At = U_off23 * At * U_off23'\n",
    "t_on = 70 #At kicks = t_on, At = U * At * U'\n",
    "#----------------------------------\n",
    "time_array = zeros(1,kicks)\n",
    "\n",
    "OTOC12_max_onoff = zeros(1,kicks)\n",
    "OTOC23_max_onoff = zeros(1,kicks)\n",
    "\n",
    "# making Hilbert space in bigger Hilbert space\n",
    "A_Jy2 =  kron(sparse(I,N1,N1),Jy2,sparse(I,N3,N3));\n",
    "B1_Jy1 = kron(Jy1,sparse(I,N2,N2),sparse(I,N3,N3));\n",
    "B2_Jy3 = kron(sparse(I,N1,N1),sparse(I,N2,N2),Jy3);\n",
    "\n",
    "At = A_Jy2\n",
    "B2 = B1_Jy1\n",
    "B3 = B2_Jy3\n",
    "@showprogress for i = 1:kicks\n",
    "    time_array[1,i] = i\n",
    "    commutator2 = At * B2 - B2 * At\n",
    "    OTOC12_max_onoff[1,i] = (1/N1*N2*N3)*tr(commutator2' * commutator2)\n",
    "    \n",
    "    commutator3 = At * B3 - B3 * At\n",
    "    OTOC23_max_onoff[1,i] = (1/N1*N2*N3)*tr(commutator3' * commutator3)\n",
    "    \n",
    "    if i < t_off || i ≥ t_on\n",
    "        At = U * At * U'\n",
    "    else\n",
    "        At = U_off23 * At * U_off23'\n",
    "    end\n",
    "end"
   ]
  },
  {
   "cell_type": "code",
   "execution_count": 13,
   "id": "f97c3d5a",
   "metadata": {},
   "outputs": [
    {
     "name": "stdout",
     "output_type": "stream",
     "text": [
      "data saved in name of: OTOC12max_Jy2_Jy1 8 8 9 7 6 7.3 Δ12=0.2 Δ23=0.2 100 7 70.npy\n",
      "data saved in name of: OTOC23max_Jy2_Jy3 8 8 9 7 6 7.3 Δ12=0.2 Δ23=0.2 100 7 70.npy\n"
     ]
    }
   ],
   "source": [
    "# data saving\n",
    "save_data = [time_array; OTOC12_max_onoff]\n",
    "npzwrite(\"data2/OTOC12max_Jy2_Jy1 $j1 $j2 $j3 $k1 $k2 $k3 Δ12=$Δ12 Δ23=$Δ23 $kicks $t_off $t_on.npy\", save_data)\n",
    "println(\"data saved in name of: OTOC12max_Jy2_Jy1 $j1 $j2 $j3 $k1 $k2 $k3 Δ12=$Δ12 Δ23=$Δ23 $kicks $t_off $t_on.npy\")\n",
    "\n",
    "save_data = [time_array; OTOC23_max_onoff]\n",
    "npzwrite(\"data2/OTOC23max_Jy2_Jy3 $j1 $j2 $j3 $k1 $k2 $k3 Δ12=$Δ12 Δ23=$Δ23 $kicks $t_off $t_on.npy\", save_data)\n",
    "println(\"data saved in name of: OTOC23max_Jy2_Jy3 $j1 $j2 $j3 $k1 $k2 $k3 Δ12=$Δ12 Δ23=$Δ23 $kicks $t_off $t_on.npy\")"
   ]
  },
  {
   "cell_type": "code",
   "execution_count": 38,
   "id": "da5ec1dd",
   "metadata": {},
   "outputs": [
    {
     "data": {
      "image/png": "[encoded data removed]",
      "text/plain": [
       "PyPlot.Figure(PyObject <Figure size 1000x500 with 1 Axes>)"
      ]
     },
     "metadata": {},
     "output_type": "display_data"
    },
    {
     "data": {
      "text/plain": [
       "PyObject <matplotlib.lines.Line2D object at 0x7f4c15e6d580>"
      ]
     },
     "execution_count": 38,
     "metadata": {},
     "output_type": "execute_result"
    }
   ],
   "source": [
    "plt.figure(figsize=(10,5))\n",
    "plt.plot(time_array',OTOC12_max_onoff', \"-\",markersize=10, label = \"1⊗2\")\n",
    "plt.plot(time_array',OTOC23_max_onoff', \".-\",markersize=10, label = \"1⊗2\")\n",
    "plt.plot(time_array',OTOC23_max',\"c.-\",markersize=10,label = \"At=Jy2,B=Jy3\")\n",
    "plt.plot(time_array',OTOC12_max',\".\",markersize=10, label = \"At=Jy2,B=Jy1\")\n",
    "plt.axvline(x=7+1)\n",
    "plt.axvline(x=71)"
   ]
  },
  {
   "cell_type": "markdown",
   "id": "2af0fb57",
   "metadata": {},
   "source": [
    "## Fidelity check of quantum state\n",
    "\n",
    "To do this part we first calculate the Floquet operator. Floquet operator are calculated earlier so run that part 1st before running this section."
   ]
  },
  {
   "cell_type": "code",
   "execution_count": 60,
   "id": "2bb3c38e",
   "metadata": {},
   "outputs": [
    {
     "name": "stderr",
     "output_type": "stream",
     "text": [
      "\u001b[32mProgress: 100%|█████████████████████████████████████████| Time: 0:00:02\u001b[39m\n",
      "\u001b[32mProgress: 100%|█████████████████████████████████████████| Time: 0:00:01\u001b[39m\n"
     ]
    }
   ],
   "source": [
    "ψ01 = Matrix{Float64}(I,N1,N1)[:,1]\n",
    "ψ02 = Matrix{Float64}(I,N2,N2)[:,1]\n",
    "ψ03 = Matrix{Float64}(I,N3,N3)[:,3]\n",
    "ψ0 = kron(ψ01,ψ02,ψ03) # taking any generic basis as a initial state.\n",
    "\n",
    "kicks = 100 # time of evolution,\n",
    "t_off = 7\n",
    "t_on = 9\n",
    "\n",
    "ψt = ψ0\n",
    "@showprogress for i = 1:kicks\n",
    "    ψt = U*ψt\n",
    "end\n",
    "ψt = Ket(b1⊗b2⊗b3,ψt)\n",
    "ρt12 = ptrace(ψt, [1,3])\n",
    "\n",
    "\n",
    "ψt_onoff = ψ0\n",
    "@showprogress for i = 1:kicks\n",
    "    if i < t_off || i ≥ t_on\n",
    "        ψt_onoff = U * ψt_onoff \n",
    "    else\n",
    "        ψt_onoff = U_off23 * ψt_onoff\n",
    "    end\n",
    "end\n",
    "ψt_onoff = Ket(b1⊗b2⊗b3,ψt_onoff)\n",
    "ρt_onoff12 = ptrace(ψt_onoff, [1,3]);\n",
    "    "
   ]
  },
  {
   "cell_type": "code",
   "execution_count": 61,
   "id": "c58a6431",
   "metadata": {},
   "outputs": [
    {
     "data": {
      "text/plain": [
       "0.9974022213364301"
      ]
     },
     "execution_count": 61,
     "metadata": {},
     "output_type": "execute_result"
    }
   ],
   "source": [
    "abs(fidelity(ρt12,ρt_onoff12))"
   ]
  },
  {
   "cell_type": "code",
   "execution_count": 62,
   "id": "58e03b23",
   "metadata": {},
   "outputs": [
    {
     "data": {
      "text/plain": [
       "0.2597778663569916"
      ]
     },
     "execution_count": 62,
     "metadata": {},
     "output_type": "execute_result"
    }
   ],
   "source": [
    "(1 - abs(fidelity(ρt12,ρt_onoff12)))*100"
   ]
  },
  {
   "cell_type": "code",
   "execution_count": 56,
   "id": "9c79df4f",
   "metadata": {},
   "outputs": [
    {
     "data": {
      "text/plain": [
       "0.9965800798604516"
      ]
     },
     "execution_count": 56,
     "metadata": {},
     "output_type": "execute_result"
    }
   ],
   "source": [
    "abs(fidelity(ρt12,ρt_onoff12))"
   ]
  },
  {
   "cell_type": "markdown",
   "id": "aaf7a8e5",
   "metadata": {},
   "source": [
    "## Systems acting one by one"
   ]
  },
  {
   "cell_type": "code",
   "execution_count": null,
   "id": "1f67843d",
   "metadata": {},
   "outputs": [],
   "source": [
    "#------------------------------------------------\n",
    "# Parameters\n",
    "k = 6;\n",
    "k2 = 7;\n",
    "\n",
    "\n",
    "j1 = 8\n",
    "j2 = 9\n",
    "\n",
    "\n",
    "p = 1.73\n",
    "ϵpow= 14; ϵ = 10.0^(-ϵpow) #precision\n",
    "Δ12 = 0.2; # coupling strength.\n",
    "N1 = convert(Int64,2*j1+1) # N1 is the dimension of the 1st hilbert space (2j1 +1).\n",
    "N2 = convert(Int64,2*j2+1) # N2 is the dimension of the 2nd hilbert space (2j2 +1).\n",
    "#------------------------------------------------\n",
    "\n",
    "# Basis\n",
    "b1 = SpinBasis(j1)\n",
    "b2 = SpinBasis(j2)\n",
    "b3 = SpinBasis(j3)\n",
    "\n",
    "# Operator creation\n",
    "Jy1 = 0.5*sparse(sigmay(b1).data)\n",
    "Jz1 = 0.5*sparse(sigmaz(b1).data)\n",
    "\n",
    "Jy2 = 0.5*sparse(sigmay(b2).data)\n",
    "Jz2 = 0.5*sparse(sigmaz(b2).data)\n",
    "\n",
    "Jy3 = 0.5*sparse(sigmay(b3).data)\n",
    "Jz3 = 0.5*sparse(sigmaz(b3).data);"
   ]
  },
  {
   "cell_type": "code",
   "execution_count": null,
   "id": "11c618f2",
   "metadata": {},
   "outputs": [],
   "source": []
  },
  {
   "cell_type": "code",
   "execution_count": null,
   "id": "874bf7c6",
   "metadata": {},
   "outputs": [],
   "source": []
  },
  {
   "cell_type": "code",
   "execution_count": null,
   "id": "c5d457ea",
   "metadata": {},
   "outputs": [],
   "source": []
  },
  {
   "cell_type": "code",
   "execution_count": null,
   "id": "9d339f84",
   "metadata": {},
   "outputs": [],
   "source": []
  },
  {
   "cell_type": "markdown",
   "id": "7182841e",
   "metadata": {},
   "source": [
    "3. ### OTOC and operatpr sprading version 1.0\n",
    "$OTOC_{max} = \\frac{1}{d}Tr(|[A_t,B]|^2)$. Max means with respect to maximally mixed state.\n",
    "\n",
    "$OTOC_{\\rho} = Tr(\\rho*|[A_t,B]|^2)$"
   ]
  },
  {
   "cell_type": "markdown",
   "id": "f1cb4798",
   "metadata": {},
   "source": [
    "|   Plots    | $A_t$ | $B$        |\n",
    "| :---        |    :----:   |          ---: |\n",
    "|1. | $I\\otimes J_{z2}\\otimes I$ | $J_{z1}\\otimes I \\otimes I$  |\n",
    "|2. | $I\\otimes J_{z2}\\otimes I$ | $I \\otimes I \\otimes J_{z3}$ |\n",
    "|3. | $I\\otimes J_{z2}\\otimes I$ | $J_{z1}\\otimes I \\otimes I$  |\n",
    "|4. | $I\\otimes J_{z2}\\otimes I$ | $I \\otimes I \\otimes J_{z3}$ |"
   ]
  },
  {
   "cell_type": "markdown",
   "id": "100185f1",
   "metadata": {},
   "source": [
    "In 3 and 4 although the operator are same like but the difference is, $U_{12}$ turn off for $\\Delta t$."
   ]
  },
  {
   "cell_type": "code",
   "execution_count": 4,
   "id": "bb9ea995",
   "metadata": {},
   "outputs": [
    {
     "data": {
      "text/plain": [
       "10"
      ]
     },
     "execution_count": 4,
     "metadata": {},
     "output_type": "execute_result"
    }
   ],
   "source": [
    "#------------------------------------------------\n",
    "kicks = 10\n",
    "\n",
    "#t_off = 40 # turnoff the interaction after t_off\n",
    "#t_on = 90 # turnon again after t_on\n",
    "#------------------------------------------------\n",
    "\n"
   ]
  },
  {
   "cell_type": "code",
   "execution_count": 8,
   "id": "85db2682",
   "metadata": {},
   "outputs": [],
   "source": [
    "# OTOC is (I⊗Jz2⊗I)_t and (Jz1⊗I⊗I) \n",
    "\n",
    "time_array = zeros(1,kicks)\n",
    "\n",
    "# changing the Hilbert space into bigger Hilbert space. H1 or H2 or H3 → H1⊗H2⊗H3\n",
    "A_Jz2 =  identityoperator(b1) ⊗ exp(dense(im*Jz2)) ⊗ identityoperator(b3)\n",
    "B_Jz1 =  exp(dense(im*Jz1)) ⊗ identityoperator(b2) ⊗ identityoperator(b3)\n",
    "\n",
    "#total dimension\n",
    "d = (2*j1+1)*(2*j2+1)*(2*j3+1)# Initial coherent spin state\n",
    "\n",
    "\n",
    "\n",
    "OTOC12_max = zeros(1,kicks)\n",
    "At = dense(A_Jz2)\n",
    "B = dense(B_Jz1)\n",
    "for i = 1:kicks\n",
    "    time_array[1,i] = i\n",
    "    commutator = At * B - B * At\n",
    "    OTOC12_max[1,i] = (1/d)*tr(dagger(commutator)*commutator)\n",
    "    At = U*At*dagger(U)\n",
    "end"
   ]
  },
  {
   "cell_type": "code",
   "execution_count": 9,
   "id": "5c32802a",
   "metadata": {
    "scrolled": true
   },
   "outputs": [],
   "source": [
    "# OTOC is (I⊗Jz2⊗I)_t and (I⊗I⊗Jz3)\n",
    "\n",
    "\n",
    "# making Hilbert space in bigger Hilbert space\n",
    "A_Jz2 =  identityoperator(b1) ⊗ exp(dense(im*Jz2)) ⊗ identityoperator(b3)\n",
    "B_Jz3 =  identityoperator(b1) ⊗ identityoperator(b2) ⊗ exp(dense(im*Jz3))\n",
    "\n",
    "#total dimension\n",
    "d = (2*j1+1)*(2*j2+1)*(2*j3+1)\n",
    "\n",
    "OTOC23_max = zeros(1,kicks)\n",
    "At = dense(A_Jz2)\n",
    "B = dense(B_Jz3)\n",
    "for i = 1:kicks\n",
    "    commutator = At * B - B * At\n",
    "    OTOC23_max[1,i] = (1/d)*tr(dagger(commutator)*commutator)\n",
    "    At = U*At*dagger(U)\n",
    "end"
   ]
  },
  {
   "cell_type": "code",
   "execution_count": 11,
   "id": "b7b09601",
   "metadata": {},
   "outputs": [
    {
     "data": {
      "image/png": "[encoded data removed]",
      "text/plain": [
       "PyPlot.Figure(PyObject <Figure size 640x480 with 1 Axes>)"
      ]
     },
     "metadata": {},
     "output_type": "display_data"
    },
    {
     "data": {
      "text/plain": [
       "PyObject <matplotlib.legend.Legend object at 0x7fdb4544bb80>"
      ]
     },
     "execution_count": 11,
     "metadata": {},
     "output_type": "execute_result"
    }
   ],
   "source": [
    "plt.figure(figsize=(10,5))\n",
    "plt.plot(time_array',OTOC12_max',\".\",markersize=10, label = \"1⊗2\")\n",
    "plt.plot(time_array',OTOC23_max',\"c.\",markersize=4.5,label = \"2⊗3\")\n",
    "plt.xlabel(\"kicks\")\n",
    "#plt.yscale(\"log\")\n",
    "plt.ylabel(\"OTOC_max\")\n",
    "plt.legend()\n",
    "#plt.savefig(\"plots/monogamyOTOC/monogamyOTOC j1j2=$j1 k1k2=$k1.png\")"
   ]
  },
  {
   "cell_type": "code",
   "execution_count": null,
   "id": "43e46d51",
   "metadata": {},
   "outputs": [],
   "source": []
  },
  {
   "cell_type": "code",
   "execution_count": 107,
   "id": "08402f7c",
   "metadata": {},
   "outputs": [],
   "source": [
    "# If on-off is present.\n",
    "t_off = 3\n",
    "t_on = 50\n",
    "\n",
    "\n",
    "OTOC12_max_onoff = zeros(1,kicks)\n",
    "OTOC23_max_onoff = zeros(1,kicks)\n",
    "\n",
    "# making Hilbert space in bigger Hilbert space\n",
    "A_Jz2 =  identityoperator(b1) ⊗ exp(dense(im*Jz2)) ⊗ identityoperator(b3)\n",
    "B1_Jz1 =   exp(dense(im*Jz1)) ⊗ identityoperator(b2) ⊗ identityoperator(b3)\n",
    "B2_Jz3 =  identityoperator(b1) ⊗ identityoperator(b2) ⊗ exp(dense(im*Jz3))\n",
    "\n",
    "At = dense(A_Jz2)\n",
    "B2 = dense(B1_Jz1)\n",
    "B3 = dense(B2_Jz3)\n",
    "for i = 1:kicks\n",
    "    commutator2 = At * B2 - B2 * At\n",
    "    OTOC12_max_onoff[1,i] = (1/d)*tr(dagger(commutator2)*commutator2)\n",
    "    \n",
    "    commutator3 = At * B3 - B3 * At\n",
    "    OTOC23_max_onoff[1,i] = (1/d)*tr(dagger(commutator3)*commutator3)\n",
    "    \n",
    "    if i < t_off || i ≥ t_on\n",
    "        At = U*At*dagger(U)\n",
    "    else\n",
    "        At = U_off23*At*dagger(U_off23)\n",
    "    end\n",
    "end\n"
   ]
  },
  {
   "cell_type": "code",
   "execution_count": 109,
   "id": "7eccade6",
   "metadata": {},
   "outputs": [
    {
     "data": {
      "image/png": "[encoded data removed]",
      "text/plain": [
       "PyPlot.Figure(PyObject <Figure size 1000x500 with 1 Axes>)"
      ]
     },
     "metadata": {},
     "output_type": "display_data"
    }
   ],
   "source": [
    "plt.figure(figsize=(10,5))\n",
    "plt.plot(time_array',OTOC12_max', \".\",markersize=15, label = \"1⊗2\")\n",
    "plt.plot(time_array',OTOC23_max',\".\",markersize=7,label = \"2⊗3\")\n",
    "plt.plot(time_array',OTOC12_max_onoff',\".\",markersize=4.5, label = \"1⊗2\")\n",
    "plt.plot(time_array',OTOC23_max_onoff',\"c.\",markersize=4.5,label = \"2⊗3\")\n",
    "plt.xlim(0,100)\n",
    "plt.xlabel(\"kicks\")\n",
    "plt.ylabel(\"OTOC_max\")\n",
    "plt.title(\"Evolution of unitary matrix exp(iJz)\")\n",
    "plt.legend()\n",
    "plt.grid()\n",
    "#plt.savefig(\"plots/monogamyOTOC/monogamyOTOC_unitary j1j2=$j1 k1k2=$k1 toff=$t_off ton=$t_on.png\")"
   ]
  },
  {
   "cell_type": "code",
   "execution_count": null,
   "id": "72536b5f",
   "metadata": {},
   "outputs": [],
   "source": []
  },
  {
   "cell_type": "code",
   "execution_count": null,
   "id": "388e1dbc",
   "metadata": {},
   "outputs": [],
   "source": []
  },
  {
   "cell_type": "code",
   "execution_count": null,
   "id": "cb5d0c5a",
   "metadata": {},
   "outputs": [],
   "source": []
  },
  {
   "cell_type": "code",
   "execution_count": null,
   "id": "fab1873b",
   "metadata": {},
   "outputs": [],
   "source": []
  },
  {
   "cell_type": "code",
   "execution_count": 7,
   "id": "c2dcd233",
   "metadata": {},
   "outputs": [],
   "source": [
    "# data saving\n",
    "#save_data = [time_array; OTOC_max]\n",
    "#npzwrite(\"data/OTOCmax_Jz1I_IJz2$j1 $j2 $k1 $k2 $δ $kicks $t_off $t_on $ϵpow.npy\", save_data)\n",
    "#println(\"data saved in name of: OTOCmax_Jz1I_IJz2$j1 $j2 $k1 $k2 $δ $kicks $t_off $t_on $ϵpow.npy\")"
   ]
  },
  {
   "cell_type": "code",
   "execution_count": null,
   "id": "243753b8",
   "metadata": {},
   "outputs": [],
   "source": []
  },
  {
   "cell_type": "markdown",
   "id": "4d4d980c",
   "metadata": {},
   "source": [
    "##  3 kicked top Hamiltonians Version 2.0\n",
    "For understanding the entanglement groth and information scrambling."
   ]
  },
  {
   "cell_type": "code",
   "execution_count": 1,
   "id": "3a085789",
   "metadata": {},
   "outputs": [],
   "source": [
    "using QuantumOptics\n",
    "import PyPlot as plt\n",
    "using SparseArrays\n",
    "using LinearAlgebra\n",
    "using Plots\n",
    "using Statistics\n",
    "using FastExpm"
   ]
  },
  {
   "cell_type": "code",
   "execution_count": 2,
   "id": "feee7e3b",
   "metadata": {},
   "outputs": [
    {
     "data": {
      "text/plain": [
       "19×19 SparseMatrixCSC{ComplexF64, Int64} with 18 stored entries:\n",
       "⠑⢄⠀⠀⠀⠀⠀⠀⠀⠀\n",
       "⠀⠀⠑⢄⠀⠀⠀⠀⠀⠀\n",
       "⠀⠀⠀⠀⠁⢄⠀⠀⠀⠀\n",
       "⠀⠀⠀⠀⠀⠀⠑⢄⠀⠀\n",
       "⠀⠀⠀⠀⠀⠀⠀⠀⠑⠄"
      ]
     },
     "execution_count": 2,
     "metadata": {},
     "output_type": "execute_result"
    }
   ],
   "source": [
    "#------------------------------------------------\n",
    "# Parameters\n",
    "k1 = 5;\n",
    "k2 = 10;\n",
    "k3 = 6;\n",
    "j1 = 8\n",
    "j2 = 10\n",
    "j3 = 9\n",
    "p = 1.4\n",
    "ϵpow= 14; ϵ = 10.0^(-ϵpow) #precision\n",
    "Δ12 = 1; Δ23 = 1 # coupling strength.\n",
    "N1 = convert(Int64,2*j1+1) # N1 is the dimension of the 1st hilbert space (2j1 +1).\n",
    "N2 = convert(Int64,2*j2+1) # N2 is the dimension of the 2nd hilbert space (2j2 +1).\n",
    "N3 = convert(Int64,2*j3+1) # N3 is the dimension of the 3rd hilbert space (2j3 +1)\n",
    "#------------------------------------------------\n",
    "\n",
    "# Basis\n",
    "b1 = SpinBasis(j1)\n",
    "b2 = SpinBasis(j2)\n",
    "b3 = SpinBasis(j3)\n",
    "\n",
    "# Operator creation\n",
    "Jy1 = 0.5*sparse(sigmay(b1).data)\n",
    "Jz1 = 0.5*sparse(sigmaz(b1).data)\n",
    "\n",
    "Jy2 = 0.5*sparse(sigmay(b2).data)\n",
    "Jz2 = 0.5*sparse(sigmaz(b2).data)\n",
    "\n",
    "Jy3 = 0.5*sparse(sigmay(b3).data)\n",
    "Jz3 = 0.5*sparse(sigmaz(b3).data)"
   ]
  },
  {
   "cell_type": "code",
   "execution_count": 24,
   "id": "4deb372e",
   "metadata": {},
   "outputs": [
    {
     "data": {
      "text/plain": [
       "6783×6783 Matrix{ComplexF64}:\n",
       "  -2.24028e-7+4.65133e-7im   …  -2.11439e-11+4.38996e-11im\n",
       "  -1.12721e-7+1.84147e-6im       1.49957e-11-2.44977e-10im\n",
       "   3.70656e-6+2.60516e-6im       6.95044e-10+4.88511e-10im\n",
       "   4.47451e-6-7.59221e-6im       -1.18267e-9+2.00672e-9im\n",
       "  -1.41442e-5+2.56071e-6im       -5.26959e-9+9.5402e-10im\n",
       "   2.02354e-5+9.81304e-7im   …   -1.06265e-8-5.15323e-10im\n",
       "  -2.35466e-5+8.74394e-6im       -1.74294e-8+6.47234e-9im\n",
       "   4.94916e-6-2.72544e-5im       -5.16373e-9+2.84361e-8im\n",
       "   2.72639e-5+2.27503e-6im        4.00957e-8+3.34578e-9im\n",
       "   1.45977e-5+1.94147e-5im       -3.02603e-8-4.02457e-8im\n",
       "   8.15213e-6+1.76146e-5im   …    2.38198e-8+5.14684e-8im\n",
       "    1.0509e-5+9.1619e-6im         -4.3282e-8-3.77339e-8im\n",
       "   8.47078e-6-2.94771e-6im        4.91754e-8-1.71123e-8im\n",
       "             ⋮               ⋱  \n",
       "    4.3282e-8+3.77339e-8im        -1.0509e-5-9.1619e-6im\n",
       "   2.38198e-8+5.14684e-8im        8.15213e-6+1.76146e-5im\n",
       "   3.02603e-8+4.02457e-8im       -1.45977e-5-1.94147e-5im\n",
       "   4.00957e-8+3.34578e-9im        2.72639e-5+2.27503e-6im\n",
       "   5.16373e-9-2.84361e-8im   …   -4.94916e-6+2.72544e-5im\n",
       "  -1.74294e-8+6.47234e-9im       -2.35466e-5+8.74394e-6im\n",
       "   1.06265e-8+5.15323e-10im      -2.02354e-5-9.81304e-7im\n",
       "  -5.26959e-9+9.5402e-10im       -1.41442e-5+2.56071e-6im\n",
       "   1.18267e-9-2.00672e-9im       -4.47451e-6+7.59221e-6im\n",
       "  6.95044e-10+4.88511e-10im  …    3.70656e-6+2.60516e-6im\n",
       " -1.49957e-11+2.44977e-10im       1.12721e-7-1.84147e-6im\n",
       " -2.11439e-11+4.38996e-11im      -2.24028e-7+4.65133e-7im"
      ]
     },
     "execution_count": 24,
     "metadata": {},
     "output_type": "execute_result"
    }
   ],
   "source": [
    "# Floquet operators\n",
    "# U1 for j=j1\n",
    "U1 = fastExpm(-1im*k1*Jz1*Jz1/(2*j1), threshold=1e-15,nonzero_tol=ϵ)*fastExpm(-1im*p*Jy1,threshold=1e-15,nonzero_tol = ϵ);\n",
    "# U2 for j=j2\n",
    "U2 = fastExpm(-1im*k2*Jz2*Jz2/(2*j2),threshold=1e-15 ,nonzero_tol=ϵ)*fastExpm(-1im*p*Jy2,threshold=1e-15 ,nonzero_tol = ϵ);\n",
    "# U3 for j=j3\n",
    "U3 = fastExpm(-1im*k3*Jz3*Jz3/(2*(j3+1/2)),threshold=1e-15,nonzero_tol=ϵ) * fastExpm(-1im*p*Jy3,threshold=1e-15,nonzero_tol = ϵ);\n",
    "\n",
    "# U12 Floquet for coupling term\n",
    "U12 = fastExpm(-1im * Δ12* (kron(Jz1,Jz2)) / (2 * sqrt(j1 * j2) ),threshold=1e-15,nonzero_tol = ϵ);\n",
    "# U23 Floquet for coupling term\n",
    "U23 = fastExpm(-1im * Δ23*kron(Jz2,Jz3) / (2 * sqrt(j2 * j3)),threshold=1e-15 ,nonzero_tol = ϵ);\n",
    "\n",
    "# U12 an U23 ∈ H1⊗H2⊗ H3\n",
    "U12 = kron(U12,Matrix{ComplexF64}(I,N3,N3));\n",
    "U23 = kron(Matrix{ComplexF64}(I,N1,N1),U23)\n",
    "\n",
    "# Unitary floquet operator of whole system\n",
    "U = U12*U23*kron(U1,U2,U3)\n",
    "#U_off23 = U12*U23*kron(U1,U2,U3)"
   ]
  },
  {
   "cell_type": "code",
   "execution_count": 17,
   "id": "c6eff94c",
   "metadata": {},
   "outputs": [
    {
     "data": {
      "text/plain": [
       "iscomute (generic function with 2 methods)"
      ]
     },
     "execution_count": 17,
     "metadata": {},
     "output_type": "execute_result"
    }
   ],
   "source": [
    "# function for compatibility check of two matrix(or sparse matrix). true means compatible.\n",
    "function iscomute(A,B,ϵ = 1e-14)\n",
    "    comutator_f = A*B - B*A\n",
    "    \n",
    "    if issparse(comutator_f)  == true\n",
    "        comutator_f = droptol!(comutator_f,ϵ)\n",
    "        \n",
    "    else\n",
    "        comutator_f = sparse(comutator_f)\n",
    "        comutator_f = droptol!(comutator_f,ϵ)\n",
    "    end\n",
    "    return comutator_f == spzeros(size(comutator_f)[1],size(comutator_f)[2])\n",
    "end"
   ]
  },
  {
   "cell_type": "code",
   "execution_count": 41,
   "id": "871af60f",
   "metadata": {},
   "outputs": [
    {
     "data": {
      "text/plain": [
       "6783×6783 Matrix{ComplexF64}:\n",
       "  4.42779e-47-0.0im    -2.426e-47+0.0im  …           1.0+0.0im\n",
       "  2.68298e-47-0.0im   4.22997e-47-0.0im     -3.19833e-16+0.0im\n",
       "   4.7348e-47-0.0im   6.16765e-48-0.0im     -4.66779e-16+0.0im\n",
       "  1.25897e-47-0.0im  -1.29865e-47+0.0im     -6.27472e-17+0.0im\n",
       "  5.23647e-47-0.0im  -1.32186e-47+0.0im     -2.41851e-17+0.0im\n",
       "   2.5645e-47-0.0im   3.43019e-48-0.0im  …   2.01228e-16+0.0im\n",
       "  5.57636e-47-0.0im  -1.65777e-47+0.0im     -1.09029e-16+0.0im\n",
       " -1.65861e-47+0.0im   2.48786e-47-0.0im      5.55094e-17+0.0im\n",
       " -9.03755e-48+0.0im    -3.487e-48+0.0im     -7.14104e-17+0.0im\n",
       " -1.55051e-47+0.0im    4.8224e-47-0.0im      1.79452e-16+0.0im\n",
       " -2.57182e-47+0.0im   3.98013e-47-0.0im  …  -1.00033e-16+0.0im\n",
       "  3.62271e-47-0.0im   3.55523e-47-0.0im      3.41506e-17+0.0im\n",
       "  -6.0895e-48+0.0im   -1.0575e-49+0.0im      7.26831e-17+0.0im\n",
       "             ⋮                           ⋱  \n",
       "  6.68394e-17+0.0im  -1.00257e-16+0.0im      4.23952e-49+0.0im\n",
       "  3.64199e-17+0.0im   1.40521e-17+0.0im     -5.45396e-49+0.0im\n",
       "  6.24833e-17+0.0im  -1.94335e-16+0.0im      1.37056e-48+0.0im\n",
       "   1.0364e-16+0.0im  -1.60393e-16+0.0im     -7.64003e-49+0.0im\n",
       "  -1.4599e-16+0.0im   -1.4327e-16+0.0im  …   2.60825e-49+0.0im\n",
       "  2.45397e-17+0.0im   4.26156e-19+0.0im      5.55116e-49+0.0im\n",
       "  3.33805e-20+0.0im  -1.89516e-16+0.0im      4.04504e-49+0.0im\n",
       "  1.68558e-16+0.0im   2.95281e-17+0.0im     -8.99327e-49+0.0im\n",
       "  1.34624e-16+0.0im   3.85545e-16+0.0im      1.16353e-48+0.0im\n",
       " -1.38641e-16+0.0im   1.59052e-16+0.0im  …  -5.11861e-49+0.0im\n",
       " -4.02654e-16+0.0im          -1.0+0.0im      1.53928e-48+0.0im\n",
       "          1.0+0.0im    1.9661e-16+0.0im     -2.31334e-48+0.0im"
      ]
     },
     "execution_count": 41,
     "metadata": {},
     "output_type": "execute_result"
    }
   ],
   "source": [
    "Ry1 = fastExpm(-im*π*Jy1,threshold=1e-15);\n",
    "Ry2 = fastExpm(-im*π*Jy2,threshold=1e-15);\n",
    "Ry3 = fastExpm(-im*π*Jy3,threshold=1e-15);\n",
    "\n",
    "Ry = kron(Ry1,Ry2,Ry3)"
   ]
  },
  {
   "cell_type": "code",
   "execution_count": null,
   "id": "429441c6",
   "metadata": {},
   "outputs": [],
   "source": []
  },
  {
   "cell_type": "code",
   "execution_count": null,
   "id": "68754b44",
   "metadata": {},
   "outputs": [],
   "source": []
  }
 ],
 "metadata": {
  "hide_input": false,
  "kernelspec": {
   "display_name": "Julia 1.8.5",
   "language": "julia",
   "name": "julia-1.8"
  },
  "language_info": {
   "file_extension": ".jl",
   "mimetype": "application/julia",
   "name": "julia",
   "version": "1.8.5"
  },
  "sos": {
   "kernels": [
    [
     "Julia 1.7.2",
     "julia-1.7",
     "julia",
     "",
     ""
    ]
   ],
   "panel": {
    "displayed": true,
    "height": 0
   },
   "version": "0.23.4"
  }
 },
 "nbformat": 4,
 "nbformat_minor": 5
}
